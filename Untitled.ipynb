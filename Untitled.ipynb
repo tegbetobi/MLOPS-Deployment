{
 "cells": [
  {
   "cell_type": "code",
   "execution_count": 6,
   "id": "22092424-be0c-4b38-b5c0-1111e3737cb0",
   "metadata": {},
   "outputs": [],
   "source": [
    "file_path = 'requirements.txt'\n",
    "with open(file_path) as file_obj:\n",
    "        requirements=file_obj.readlines()\n",
    "      #  requirements=[req.replace(\"\\n\",\"\") for req in requirements]"
   ]
  },
  {
   "cell_type": "code",
   "execution_count": 7,
   "id": "c6706d32-cc73-4e2f-9ce3-fd792df0fc49",
   "metadata": {},
   "outputs": [
    {
     "data": {
      "text/plain": [
       "['pandas\\n',\n",
       " 'numpy\\n',\n",
       " 'seaborn\\n',\n",
       " 'matplotlib\\n',\n",
       " 'scikit-learn\\n',\n",
       " 'catboost\\n',\n",
       " 'xgboost\\n',\n",
       " 'Flask']"
      ]
     },
     "execution_count": 7,
     "metadata": {},
     "output_type": "execute_result"
    }
   ],
   "source": [
    "requirements"
   ]
  },
  {
   "cell_type": "code",
   "execution_count": null,
   "id": "1ad743c8-7788-43fb-9919-93cfb395f26a",
   "metadata": {},
   "outputs": [],
   "source": []
  }
 ],
 "metadata": {
  "kernelspec": {
   "display_name": "Python 3 (ipykernel)",
   "language": "python",
   "name": "python3"
  },
  "language_info": {
   "codemirror_mode": {
    "name": "ipython",
    "version": 3
   },
   "file_extension": ".py",
   "mimetype": "text/x-python",
   "name": "python",
   "nbconvert_exporter": "python",
   "pygments_lexer": "ipython3",
   "version": "3.11.7"
  }
 },
 "nbformat": 4,
 "nbformat_minor": 5
}
